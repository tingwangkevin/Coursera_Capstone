{
 "cells": [
  {
   "cell_type": "markdown",
   "metadata": {},
   "source": [
    "# <center>Capstone Project - The Battle of Neighborhoods (Week 1)</center>"
   ]
  },
  {
   "cell_type": "markdown",
   "metadata": {},
   "source": [
    "## Introduction/Business Problem\n",
    "\n",
    "The problem I try to solve is in Manhattan, New York, if someone is looking to open a restaurant, where would we recommend that they open it?\n",
    "\n",
    "This problem is related to all stakeholders who want to open a new restaurant in Manhattan, but not sure where the best place is. For example, if someone wants to open an Italian restaurant, is Little Italy the best place to open a new one or some other places that may be better? For Little Italy, it indeed can attract many people who want to eat Italian food. However, there are already too many Italian restaurants in this neighbourhood and a new Italian restaurant may not be competitive and attract many customers to it. While for another place where there are a few Italian restaurants around, a new Italian restaurant will definitely attract some people nearby, but how many? Will this place be better than the Little Italy for a new Italian restaurant or not, any why? Where is the best place in Manhattan for a new restaurant?\n",
    "\n",
    "We will figure out the above question using the available information in the Foursquare location data and help the stakeholders to find a good place for a new restaurant according to its cuisine."
   ]
  },
  {
   "cell_type": "markdown",
   "metadata": {},
   "source": [
    "## Data\n",
    "\n",
    "By checking all available data from Foursquare location data, I consider the criteria that can be used to determine whether a restaurant is in a good place or not is related to the check-in number / rating number / tip number etc. And the final rating is related to the quality of the restaurant. For example, restaurant A and restaurant B both having 2,000 ratings (or 1,000 check-in numbers, or 500 tips) implies they are in the similar good/bad places, whether restaurant A having a rating of 9.5 and restaurant B having a rating of 8.0 are related to their qualities. We will check the dataset to choose the most available criterion.\n",
    "\n",
    "As for factors affecting above criteria, we can consider other venues in a range of the existing restaurants as the factors. We may expect the same category of restaurant may affect heavily, such as number of other Chinese restaurants when we evaluate the place for a new Chinese restaurant or number of other Italian restaurants when we want to find a good place for a new Italian restaurant. The important factors will be selected using the model selection procedure of the linear regression or other techniques.\n",
    "\n",
    "Finally, we will provide a predictive model for stakeholders so that they can find the best possible place among candidate places using the model. "
   ]
  },
  {
   "cell_type": "markdown",
   "metadata": {},
   "source": [
    "### Thank you for your review!"
   ]
  }
 ],
 "metadata": {
  "kernelspec": {
   "display_name": "Python",
   "language": "python",
   "name": "conda-env-python-py"
  },
  "language_info": {
   "codemirror_mode": {
    "name": "ipython",
    "version": 3
   },
   "file_extension": ".py",
   "mimetype": "text/x-python",
   "name": "python",
   "nbconvert_exporter": "python",
   "pygments_lexer": "ipython3",
   "version": "3.6.7"
  },
  "widgets": {
   "state": {},
   "version": "1.1.2"
  }
 },
 "nbformat": 4,
 "nbformat_minor": 4
}
